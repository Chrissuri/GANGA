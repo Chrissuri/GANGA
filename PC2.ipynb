{
 "cells": [
  {
   "cell_type": "markdown",
   "metadata": {
    "colab_type": "text",
    "id": "view-in-github"
   },
   "source": [
    "<a href=\"https://colab.research.google.com/github/Chrissuri/PC2/blob/main/PC2.ipynb\" target=\"_parent\"><img src=\"https://colab.research.google.com/assets/colab-badge.svg\" alt=\"Open In Colab\"/></a>"
   ]
  },
  {
   "cell_type": "code",
   "execution_count": null,
   "metadata": {},
   "outputs": [],
   "source": []
  },
  {
   "cell_type": "code",
   "execution_count": 1,
   "metadata": {},
   "outputs": [
    {
     "ename": "SyntaxError",
     "evalue": "invalid syntax (1081430381.py, line 2)",
     "output_type": "error",
     "traceback": [
      "\u001b[1;36m  Cell \u001b[1;32mIn[1], line 2\u001b[1;36m\u001b[0m\n\u001b[1;33m    linkGit= https://github.com/Chrissuri/PC2/raw/main/PC2.ipynb\u001b[0m\n\u001b[1;37m                  ^\u001b[0m\n\u001b[1;31mSyntaxError\u001b[0m\u001b[1;31m:\u001b[0m invalid syntax\n"
     ]
    }
   ],
   "source": [
    "import pandas as pd\n",
    "linkGit= https://github.com/Chrissuri/PC2/raw/main/PC2.ipynb\n",
    "dataRaee=pd.read_csv(linkGit)"
   ]
  },
  {
   "cell_type": "code",
   "execution_count": null,
   "metadata": {
    "id": "3QkEPAsYtoGO"
   },
   "outputs": [],
   "source": [
    "humanLink=\"https://docs.google.com/spreadsheets/d/e/2PACX-1vSPVJIoDhupNyUpYD65FSHt6kMmF_KaxE2RD6CV1FOMP4vVw7WfKQMqpqo0ieD9vhMAmYP1NpBmw0od/pubhtml?gid=658985149&single=true\"\n",
    "\n",
    "#Observamos la lista de Dataframes\n",
    "\n",
    "import pandas as pd\n",
    "\n",
    "humanList=pd.read_html(humanLink,header=0,flavor='bs4')\n",
    "\n",
    "#Obtenemos el DataFrame de la lista\n",
    "human=humanList[0]"
   ]
  },
  {
   "cell_type": "code",
   "execution_count": null,
   "metadata": {
    "colab": {
     "base_uri": "https://localhost:8080/",
     "height": 649
    },
    "id": "cQ1o0kgotxrW",
    "outputId": "7be17ab4-37e8-4340-f9de-e36652771e56"
   },
   "outputs": [],
   "source": [
    "human\n"
   ]
  },
  {
   "cell_type": "markdown",
   "metadata": {
    "id": "9eV7qWDKRbUy"
   },
   "source": [
    "LIMPIEZA\n"
   ]
  },
  {
   "cell_type": "code",
   "execution_count": null,
   "metadata": {
    "id": "ExUumF-8uoOP"
   },
   "outputs": [],
   "source": [
    "#renombre de columnas\n",
    "newHumanNames={'Unnamed: 1':'HDI_rank','Unnamed: 2':'Country',\"Unnamed: 3\":\"Value\",\"Unnamed: 5\":\"Life_Expectancy\",\"Unnamed: 7\":\"Exp_Years_School\",\"Unnamed: 9\":\"Mean_Years_School\",\"Unnamed: 11\":\"GNI_capita\",\"Unnamed: 13\":\"GNI_HDI_RANK\",\"Unnamed: 15\":\"HDI_RANK\"}\n",
    "human.rename(columns=newHumanNames,inplace=True)"
   ]
  },
  {
   "cell_type": "code",
   "execution_count": null,
   "metadata": {
    "colab": {
     "base_uri": "https://localhost:8080/",
     "height": 667
    },
    "id": "TvXcUW7yxnKT",
    "outputId": "4dc3faa6-8ddf-4aef-bd8a-3de477f08bae"
   },
   "outputs": [],
   "source": [
    "human"
   ]
  },
  {
   "cell_type": "code",
   "execution_count": null,
   "metadata": {
    "id": "tF69bTyvCynd"
   },
   "outputs": [],
   "source": [
    "#quitar columnas\n",
    "byeColumns=[\"Unnamed: 0\",\"HDI_rank\",\"Unnamed: 4\",\"Unnamed: 6\",\"Unnamed: 8\",\"Unnamed: 10\",\"Unnamed: 12\",\"Unnamed: 14\",\"GNI_HDI_RANK\",\"HDI_RANK\"]\n",
    "\n",
    "human.drop(columns=byeColumns,inplace=True)"
   ]
  },
  {
   "cell_type": "code",
   "execution_count": null,
   "metadata": {
    "colab": {
     "base_uri": "https://localhost:8080/",
     "height": 363
    },
    "id": "du3-AHhCEyxc",
    "outputId": "47341b01-693c-4872-eb1a-8888df54dcf2"
   },
   "outputs": [],
   "source": [
    "#muestra de las primeras 10 filas\n",
    "human.head(10)"
   ]
  },
  {
   "cell_type": "code",
   "execution_count": null,
   "metadata": {
    "id": "wYU9IU-AFMSr"
   },
   "outputs": [],
   "source": [
    "#quitar filas\n",
    "byeRows=[0,1,2,3,4,5,6,7,74,124,169]\n",
    "human.drop(index=byeRows,inplace=True)"
   ]
  },
  {
   "cell_type": "code",
   "execution_count": null,
   "metadata": {
    "colab": {
     "base_uri": "https://localhost:8080/",
     "height": 424
    },
    "id": "Sp1c-E_6FdDr",
    "outputId": "38083705-6462-46ff-ba6b-b1373898b985"
   },
   "outputs": [],
   "source": [
    "human"
   ]
  },
  {
   "cell_type": "code",
   "execution_count": null,
   "metadata": {
    "id": "WL9jPhaxHAhr"
   },
   "outputs": [],
   "source": [
    "#quitar un rango de filas\n",
    "human=human.drop(range(202,277))"
   ]
  },
  {
   "cell_type": "code",
   "execution_count": null,
   "metadata": {
    "colab": {
     "base_uri": "https://localhost:8080/",
     "height": 424
    },
    "id": "5rxZm6dXHZ9b",
    "outputId": "6f16060d-2adb-4a01-8eb8-c64898a8d918"
   },
   "outputs": [],
   "source": [
    "human"
   ]
  },
  {
   "cell_type": "code",
   "execution_count": null,
   "metadata": {
    "id": "GjO4CLoJM1jT"
   },
   "outputs": [],
   "source": [
    "#ningun espacio en columnas\n",
    "human.columns=human.columns.str.replace(r'\\s','',regex=True)"
   ]
  },
  {
   "cell_type": "code",
   "execution_count": null,
   "metadata": {
    "id": "5bT9QWX1N0Sa"
   },
   "outputs": [],
   "source": [
    "#no spacios en string values (para varias columnas)\n",
    "byeSpaces=lambda x: x.str.strip()\n",
    "human.iloc[:,[0,5]]=human.iloc[:,[0,5]].apply(byeSpaces)"
   ]
  },
  {
   "cell_type": "code",
   "execution_count": null,
   "metadata": {
    "colab": {
     "base_uri": "https://localhost:8080/"
    },
    "id": "HhpGItMqPbvq",
    "outputId": "e154950b-d6e4-413c-8915-8f36710068dc"
   },
   "outputs": [],
   "source": [
    "human.info()"
   ]
  },
  {
   "cell_type": "markdown",
   "metadata": {
    "id": "neUtDmNMRXHq"
   },
   "source": [
    "FORMATEO"
   ]
  },
  {
   "cell_type": "code",
   "execution_count": null,
   "metadata": {
    "colab": {
     "base_uri": "https://localhost:8080/",
     "height": 53
    },
    "id": "Iz2zDeW4RjiC",
    "outputId": "72a45e11-5845-4c8a-e69b-919856425f5c"
   },
   "outputs": [],
   "source": [
    "#tenemos duplicados?\n",
    "human[human.duplicated(subset='Country')]"
   ]
  },
  {
   "cell_type": "code",
   "execution_count": null,
   "metadata": {
    "colab": {
     "base_uri": "https://localhost:8080/",
     "height": 520
    },
    "id": "lr5cnzWrRrQr",
    "outputId": "9ea4b5c7-854a-45b3-d338-149960a23dcb"
   },
   "outputs": [],
   "source": [
    "#Tenemos simbolos raros?\n",
    "human[human.Country.str.contains(r'[^\\w\\s]')]"
   ]
  },
  {
   "cell_type": "code",
   "execution_count": null,
   "metadata": {
    "colab": {
     "base_uri": "https://localhost:8080/",
     "height": 143
    },
    "id": "SowwSZdnRzLq",
    "outputId": "93545549-46a5-4d97-dbf9-9eb6296295b0"
   },
   "outputs": [],
   "source": [
    "#Tenemos acentos en palabras?\n",
    "human[human.Country.str.contains(r\"\\w*[\\u00C0-\\u01DA']\\w*\")]"
   ]
  },
  {
   "cell_type": "code",
   "execution_count": null,
   "metadata": {
    "colab": {
     "base_uri": "https://localhost:8080/"
    },
    "id": "XfyGIExlR7Cp",
    "outputId": "aae831a1-6e97-47ca-dc93-ef9003347012"
   },
   "outputs": [],
   "source": [
    "pip install unidecode"
   ]
  },
  {
   "cell_type": "code",
   "execution_count": null,
   "metadata": {
    "id": "rwDTTT_iR-O5"
   },
   "outputs": [],
   "source": [
    "#solo ascii\n",
    "from unidecode import unidecode\n",
    "\n",
    "human['Country']=human.Country.apply(unidecode)"
   ]
  },
  {
   "cell_type": "code",
   "execution_count": null,
   "metadata": {
    "colab": {
     "base_uri": "https://localhost:8080/",
     "height": 424
    },
    "id": "iIxek7rYSiCC",
    "outputId": "50dcb553-dc80-4881-82e0-3e9580a77147"
   },
   "outputs": [],
   "source": [
    "#creamos una nueva columna con valores en mayuscula\n",
    "human_test=human.copy()\n",
    "human_test['COUNTRYNAME']=human_test.Country.str.upper()\n",
    "human_test"
   ]
  },
  {
   "cell_type": "code",
   "execution_count": null,
   "metadata": {
    "colab": {
     "base_uri": "https://localhost:8080/",
     "height": 424
    },
    "id": "yZAkZT5_SvQq",
    "outputId": "abecbed0-1e62-4210-8269-ad5dca6f3d5c"
   },
   "outputs": [],
   "source": [
    "#Mantenmos los nombres en mayusculas\n",
    "human['Country']=human.Country.str.upper()\n",
    "human"
   ]
  },
  {
   "cell_type": "code",
   "execution_count": null,
   "metadata": {
    "colab": {
     "base_uri": "https://localhost:8080/"
    },
    "id": "Yepc2pzgTuoS",
    "outputId": "457cbf08-6d03-41c9-ab0f-6b2f57037dfe"
   },
   "outputs": [],
   "source": [
    "human.info()"
   ]
  },
  {
   "cell_type": "code",
   "execution_count": null,
   "metadata": {
    "colab": {
     "base_uri": "https://localhost:8080/"
    },
    "id": "gW0SfEq2UFRy",
    "outputId": "4f2b89fb-b8bd-4402-c3c5-07cc955ae46d"
   },
   "outputs": [],
   "source": [
    "#Cambiamos los valores de las columnas a valores numericos\n",
    "\n",
    "human['Value']=pd.to_numeric(human.Value)\n",
    "human['Life_Expectancy']=pd.to_numeric(human.Life_Expectancy)\n",
    "human['Exp_Years_School']=pd.to_numeric(human.Exp_Years_School)\n",
    "human['Mean_Years_School']=pd.to_numeric(human.Mean_Years_School)\n",
    "human['GNI_capita']=pd.to_numeric(human.GNI_capita)\n",
    "human.info()"
   ]
  },
  {
   "cell_type": "code",
   "execution_count": 2,
   "metadata": {
    "colab": {
     "base_uri": "https://localhost:8080/",
     "height": 424
    },
    "id": "TskNrpsRKZN6",
    "outputId": "ac5fb2bd-80a0-42e1-acf4-302ff39c15e7"
   },
   "outputs": [
    {
     "ename": "NameError",
     "evalue": "name 'human' is not defined",
     "output_type": "error",
     "traceback": [
      "\u001b[1;31m---------------------------------------------------------------------------\u001b[0m",
      "\u001b[1;31mNameError\u001b[0m                                 Traceback (most recent call last)",
      "Cell \u001b[1;32mIn[2], line 1\u001b[0m\n\u001b[1;32m----> 1\u001b[0m human\n",
      "\u001b[1;31mNameError\u001b[0m: name 'human' is not defined"
     ]
    }
   ],
   "source": [
    "human"
   ]
  },
  {
   "cell_type": "markdown",
   "metadata": {
    "id": "sZax7c9-usTq"
   },
   "source": [
    "|"
   ]
  },
  {
   "cell_type": "code",
   "execution_count": null,
   "metadata": {},
   "outputs": [],
   "source": []
  }
 ],
 "metadata": {
  "colab": {
   "include_colab_link": true,
   "provenance": []
  },
  "kernelspec": {
   "display_name": "Python 3 (ipykernel)",
   "language": "python",
   "name": "python3"
  },
  "language_info": {
   "codemirror_mode": {
    "name": "ipython",
    "version": 3
   },
   "file_extension": ".py",
   "mimetype": "text/x-python",
   "name": "python",
   "nbconvert_exporter": "python",
   "pygments_lexer": "ipython3",
   "version": "3.11.8"
  }
 },
 "nbformat": 4,
 "nbformat_minor": 4
}
